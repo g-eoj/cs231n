{
 "cells": [
  {
   "cell_type": "markdown",
   "metadata": {},
   "source": [
    "# Dropout Proportion z-Tests\n",
    "\n",
    "I noticed when doing [dropout visualizations](https://nbviewer.jupyter.org/gist/g-eoj/5097c1277359f8b1f8af763ea0163084) that the proportion of the output elements dropped did not equal the dropout rate. I wanted to see if a hypothesis test would detect a significant difference between the dropout rate argument and the proportion of dropped elements. \n",
    "\n",
    "The TensorFlow [documentation](https://www.tensorflow.org/api_docs/python/tf/nn/dropout) for dropout says each component (as defined by `noise_shape`) is dropped independently. Then dropout is based on a Bernoulli trial for each component individually, rather than randomly selecting from all components. So the count of dropped components is a random variable with a binomial distribution."
   ]
  },
  {
   "cell_type": "code",
   "execution_count": 1,
   "metadata": {},
   "outputs": [
    {
     "name": "stderr",
     "output_type": "stream",
     "text": [
      "Using TensorFlow backend.\n"
     ]
    },
    {
     "name": "stdout",
     "output_type": "stream",
     "text": [
      "keras version: 2.2.2\n",
      "tensorflow version: 1.10.0\n"
     ]
    }
   ],
   "source": [
    "import keras\n",
    "import matplotlib.pyplot as plt\n",
    "import numpy as np\n",
    "\n",
    "from keras import layers\n",
    "from keras.models import Model\n",
    "from scipy.stats import binom\n",
    "from scipy.stats import norm\n",
    "\n",
    "%matplotlib inline\n",
    "\n",
    "keras_version = keras.__version__\n",
    "tf_version = keras.backend.tensorflow_backend.tf.VERSION\n",
    "\n",
    "print(\"keras version:\", keras_version)\n",
    "print(keras.backend.backend(), \"version:\", tf_version)"
   ]
  },
  {
   "cell_type": "markdown",
   "metadata": {},
   "source": [
    "#### Test Function\n",
    "A z-test is appropriate because a binomial distribution can be [approximated](https://en.wikipedia.org/wiki/Binomial_distribution#Normal_approximation) by a normal distrbution, if the sample size is large enough."
   ]
  },
  {
   "cell_type": "code",
   "execution_count": 2,
   "metadata": {},
   "outputs": [],
   "source": [
    "def dropout_rate_ztest(k, n, p_0, alpha=0.05):\n",
    "    \"\"\"One proportion z-test for whether the true dropout rate \n",
    "    is equal to the dropout rate argument. Also plots a\n",
    "    binomial distribution based on the given inputs.\n",
    "    \n",
    "    # Arguments\n",
    "        k: count of dropped outputs\n",
    "        n: count of all outputs (sample size)\n",
    "        p_0: dropout rate argument\n",
    "        alpha: significance level\n",
    "        \n",
    "    When specifying the counts (`k` and `n`), consider the `noise_shape` \n",
    "    argument to dropout. For example, if `noise_shape=(64,1,1,32)` \n",
    "    after a 2D convolution layer, for each sample and each channel the \n",
    "    entire spatial dimensions get dropped, and should only contribute one \n",
    "    to the counts. In this case you could calculate counts like so:\n",
    "    \n",
    "        component_shape = np.divide(output.shape, noise_shape) \n",
    "        not_dropped_count = np.count_nonzero(output) / np.prod(component_shape)\n",
    "        k = np.prod(noise_shape) - not_dropped_count,\n",
    "        n = np.prod(noise_shape)\n",
    "    \"\"\"\n",
    "    \n",
    "    p_hat = k / n\n",
    "    \n",
    "    if p_hat * n < 9 or (1 - p_hat) * n < 9:\n",
    "        print(\"Assumptions for z-test not met. Increase sample size.\")\n",
    "        return\n",
    "    \n",
    "    z = (p_hat - p_0) / (np.sqrt(p_0 * (1 - p_0) / n))\n",
    "    p_value = norm.cdf(-np.abs(z)) * 2  \n",
    "\n",
    "    print(\"Null Hypothesis: true dropout rate =\", p_0)\n",
    "    print(\"Alternative Hypothesis: true dropout rate \\u2260\", p_0)\n",
    "    print(\"Sample Size:\", n)\n",
    "    print(\"Sample Proportion:\", p_hat)\n",
    "    print(\"Test Statistic:\", z)\n",
    "    print(\"p-value:\", p_value)\n",
    "\n",
    "    if p_value < alpha:\n",
    "        print(\"\\nReject the null hypothesis. There is sufficient evidence to conclude\")\n",
    "        print(\"the true dropout rate is not \", p_0, \" at a significance level of \", alpha, \".\", sep='')\n",
    "    else:\n",
    "        print(\"\\nFail to reject the null hypothesis. There is insufficient evidence to conclude\") \n",
    "        print(\"the true dropout rate is not \", p_0, \" at a significance level of \", alpha, \".\", sep='')\n",
    "\n",
    "    fig, ax = plt.subplots(1, 1)\n",
    "    x = np.arange(binom.ppf(0.01, n, p_0), binom.ppf(0.99, n, p_0))\n",
    "    ax.set_title(\"Binomial Distribution for n = \" + str(n) + \" and p = \" + str(p_0))\n",
    "    ax.plot(x, binom.pmf(x, n, p_0), 'black', ms=2)\n",
    "    ax.vlines(x, 0, binom.pmf(x, n, p_0), colors='gray', lw=5, alpha=0.33)\n",
    "    ax.vlines(k, 0, binom.pmf(k, n, p_0), colors='r', lw=2, alpha=1.0)\n",
    "    ax.annotate('dropped count', xy=(k, 0), xytext=(0.5, 0.2), \n",
    "                textcoords='axes fraction', horizontalalignment='center',\n",
    "                arrowprops=dict(facecolor='black', width=2, shrink=0.05));"
   ]
  },
  {
   "cell_type": "markdown",
   "metadata": {},
   "source": [
    "## Hypothesis Tests\n",
    "\n",
    "I detect dropped elements by counting the number of zeroes in the model ouput, so I'm careful to create input data and models that won't output zeroes when dropout isn't used."
   ]
  },
  {
   "cell_type": "markdown",
   "metadata": {},
   "source": [
    "### Regular Dropout after Dense Layer\n",
    "\n",
    "https://keras.io/layers/core/#dropout"
   ]
  },
  {
   "cell_type": "code",
   "execution_count": 3,
   "metadata": {},
   "outputs": [
    {
     "name": "stdout",
     "output_type": "stream",
     "text": [
      "Null Hypothesis: true dropout rate = 0.5\n",
      "Alternative Hypothesis: true dropout rate ≠ 0.5\n",
      "Sample Size: 6400\n",
      "Sample Proportion: 0.50515625\n",
      "Test Statistic: 0.8249999999999957\n",
      "p-value: 0.40937159069450757\n",
      "\n",
      "Fail to reject the null hypothesis. There is insufficient evidence to conclude\n",
      "the true dropout rate is not 0.5 at a significance level of 0.05.\n"
     ]
    },
    {
     "data": {
      "image/png": "[encoded data removed]",
      "text/plain": [
       "<Figure size 432x288 with 1 Axes>"
      ]
     },
     "metadata": {
      "needs_background": "light"
     },
     "output_type": "display_data"
    }
   ],
   "source": [
    "batch_size = 64\n",
    "units = 100\n",
    "dropout_rate = 0.5\n",
    "\n",
    "examples = np.ones(shape=(batch_size,1), dtype=float)\n",
    "\n",
    "inputs = layers.Input(shape=examples.shape[1:])\n",
    "x = layers.Dense(\n",
    "    units=units,\n",
    "    activation=None,\n",
    "    use_bias=False,\n",
    "    kernel_initializer=keras.initializers.Ones())(inputs)\n",
    "x = layers.Dropout(rate=dropout_rate)(x, training=True)\n",
    "\n",
    "output = Model(inputs=inputs, outputs=x).predict(examples, batch_size=batch_size)\n",
    "    \n",
    "dropout_rate_ztest(\n",
    "    k=np.prod(output.shape) - np.count_nonzero(output), # count of dropped outputs\n",
    "    n=np.prod(output.shape), # sample size\n",
    "    p_0=dropout_rate)"
   ]
  },
  {
   "cell_type": "markdown",
   "metadata": {},
   "source": [
    "### SpatialDropout2D after 2D Convolution Layer\n",
    "\n",
    "https://keras.io/layers/core/#spatialdropout2d\n",
    "\n",
    "Note that `SpatialDropout2D()` is equivalent to `Dropout()` with `noise_shape=(batch_size, 1, 1, filters)` when using channels last data format. See [source code](https://github.com/keras-team/keras/blob/master/keras/layers/core.py#L177)."
   ]
  },
  {
   "cell_type": "code",
   "execution_count": 4,
   "metadata": {},
   "outputs": [
    {
     "name": "stdout",
     "output_type": "stream",
     "text": [
      "Null Hypothesis: true dropout rate = 0.5\n",
      "Alternative Hypothesis: true dropout rate ≠ 0.5\n",
      "Sample Size: 2048\n",
      "Sample Proportion: 0.48974609375\n",
      "Test Statistic: -0.9280776503073436\n",
      "p-value: 0.35336729199329187\n",
      "\n",
      "Fail to reject the null hypothesis. There is insufficient evidence to conclude\n",
      "the true dropout rate is not 0.5 at a significance level of 0.05.\n"
     ]
    },
    {
     "data": {
      "image/png": "[encoded data removed]",
      "text/plain": [
       "<Figure size 432x288 with 1 Axes>"
      ]
     },
     "metadata": {
      "needs_background": "light"
     },
     "output_type": "display_data"
    }
   ],
   "source": [
    "batch_size = 64\n",
    "height = 28\n",
    "width = 28\n",
    "channels = 1\n",
    "filters = 32\n",
    "dropout_rate = 0.5\n",
    "\n",
    "examples = np.ones(shape=(batch_size, height, width, channels), dtype=float)\n",
    "noise_shape = (batch_size, 1, 1, filters) # noise_shape used by keras.layers.SpatialDropout2D()\n",
    "\n",
    "inputs = layers.Input(shape=examples.shape[1:])\n",
    "x = layers.Conv2D(\n",
    "    filters=filters,\n",
    "    kernel_size=5,\n",
    "    padding='same',\n",
    "    activation=None,\n",
    "    use_bias=False,\n",
    "    kernel_initializer=keras.initializers.Ones())(inputs)\n",
    "x = layers.SpatialDropout2D(rate=dropout_rate)(x, training=True)\n",
    "\n",
    "output = Model(inputs=inputs, outputs=x).predict(examples, batch_size=batch_size)\n",
    "\n",
    "# Since noise_shape causes dropout to select groups of points (components)\n",
    "# instead of individual points, we want to divide by the component size \n",
    "# so as not to overcount. In the case of SpatialDropout2D, \n",
    "# the spatial dimensions (height * width) define component size.\n",
    "component_shape = np.divide(output.shape, noise_shape) \n",
    "not_dropped_count = np.count_nonzero(output) / np.prod(component_shape)\n",
    "\n",
    "dropout_rate_ztest(\n",
    "    k=np.prod(noise_shape) - not_dropped_count,\n",
    "    n=np.prod(noise_shape), # true sample size / same as component count\n",
    "    p_0=dropout_rate)"
   ]
  }
 ],
 "metadata": {
  "kernelspec": {
   "display_name": "Python 3",
   "language": "python",
   "name": "python3"
  },
  "language_info": {
   "codemirror_mode": {
    "name": "ipython",
    "version": 3
   },
   "file_extension": ".py",
   "mimetype": "text/x-python",
   "name": "python",
   "nbconvert_exporter": "python",
   "pygments_lexer": "ipython3",
   "version": "3.6.6"
  }
 },
 "nbformat": 4,
 "nbformat_minor": 2
}
